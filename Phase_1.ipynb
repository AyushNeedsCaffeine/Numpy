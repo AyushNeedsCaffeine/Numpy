{
 "cells": [
  {
   "cell_type": "code",
   "execution_count": 2,
   "id": "70ab4722",
   "metadata": {},
   "outputs": [
    {
     "name": "stdout",
     "output_type": "stream",
     "text": [
      "NumPy version: 2.3.2\n"
     ]
    }
   ],
   "source": [
    "import numpy as np\n",
    "\n",
    "print(\"NumPy version:\", np.__version__)\n"
   ]
  },
  {
   "cell_type": "markdown",
   "id": "370c173f",
   "metadata": {},
   "source": [
    "### Creating array from list"
   ]
  },
  {
   "cell_type": "code",
   "execution_count": 5,
   "id": "33d550d7",
   "metadata": {},
   "outputs": [
    {
     "name": "stdout",
     "output_type": "stream",
     "text": [
      "1D array is:  [1 2 3]\n",
      "2D array is: \n",
      " [[1 2 3]\n",
      " [4 5 6]]\n"
     ]
    }
   ],
   "source": [
    "arr1 = np.array([1,2,3])\n",
    "print(\"1D array is: \", arr1)\n",
    "\n",
    "arr2 = np.array([[1,2,3],[4,5,6]])\n",
    "print(\"2D array is: \\n\", arr2)\n",
    "\n"
   ]
  },
  {
   "cell_type": "markdown",
   "id": "865c1ca0",
   "metadata": {},
   "source": [
    "\n",
    "### List vs numpy array"
   ]
  },
  {
   "cell_type": "code",
   "execution_count": 7,
   "id": "3e2c20ac",
   "metadata": {},
   "outputs": [
    {
     "name": "stdout",
     "output_type": "stream",
     "text": [
      "Python list multiplication \n",
      " [1, 2, 3, 1, 2, 3]\n",
      "Python array multiplication \n",
      " [2 4 6]\n"
     ]
    }
   ],
   "source": [
    "py_list = [1,2,3]\n",
    "print(\"Python list multiplication \\n\", py_list*2)\n",
    "\n",
    "np_array = np.array([1,2,3])\n",
    "print(\"Python array multiplication \\n\", np_array*2)"
   ]
  },
  {
   "cell_type": "markdown",
   "id": "f02b855f",
   "metadata": {},
   "source": [
    "###Creating array from scratch"
   ]
  },
  {
   "cell_type": "code",
   "execution_count": 12,
   "id": "1eadb242",
   "metadata": {},
   "outputs": [
    {
     "name": "stdout",
     "output_type": "stream",
     "text": [
      "zeros array: \n",
      " [[0. 0. 0. 0.]\n",
      " [0. 0. 0. 0.]\n",
      " [0. 0. 0. 0.]]\n",
      "zeros array: \n",
      " [[1. 1. 1.]\n",
      " [1. 1. 1.]]\n",
      "full array: \n",
      " [[7 7]\n",
      " [7 7]]\n",
      "Random array: \n",
      " [[0.8524237  0.53463249 0.55246233]\n",
      " [0.61117982 0.75327824 0.49379429]]\n",
      "Sequence array: \n",
      " [0 2 4 6 8]\n"
     ]
    }
   ],
   "source": [
    "Zeros = np.zeros((3,4))\n",
    "print(\"zeros array: \\n\", Zeros)\n",
    "\n",
    "ones = np.ones((2,3))\n",
    "print(\"zeros array: \\n\", ones)\n",
    " \n",
    "full = np.full((2,2), 7)\n",
    "print(\"full array: \\n\", full)\n",
    "\n",
    "random = np.random.random((2,3))\n",
    "print(\"Random array: \\n\", random)\n",
    "\n",
    "sequence = np.arange(0, 10, 2)\n",
    "print(\"Sequence array: \\n\", sequence)\n",
    "\n"
   ]
  },
  {
   "cell_type": "markdown",
   "id": "f7911521",
   "metadata": {},
   "source": [
    "### Vector, Matrix and Tensor"
   ]
  },
  {
   "cell_type": "code",
   "execution_count": 18,
   "id": "182b54fd",
   "metadata": {},
   "outputs": [
    {
     "name": "stdout",
     "output_type": "stream",
     "text": [
      "Vector: \n",
      " [1 2 3]\n",
      "Matrix: \n",
      " [[1 2 3]\n",
      " [4 5 6]]\n",
      "tensor: \n",
      " [[[1 2]\n",
      "  [3 4]]\n",
      "\n",
      " [[5 6]\n",
      "  [7 8]]]\n"
     ]
    }
   ],
   "source": [
    "vector = np.array([1,2,3])\n",
    "print(\"Vector: \\n\", vector)\n",
    "\n",
    "matrix = np.array([[1,2,3],\n",
    "                  [4,5,6]])\n",
    "print(\"Matrix: \\n\",matrix)\n",
    "\n",
    "tensor = np.array([[[1,2], [3,4]],\n",
    "                   [[5,6], [7,8]]])\n",
    "print(\"tensor: \\n\", tensor)"
   ]
  },
  {
   "cell_type": "markdown",
   "id": "f57f0a65",
   "metadata": {},
   "source": [
    "### Array properties"
   ]
  },
  {
   "cell_type": "code",
   "execution_count": 21,
   "id": "0da50705",
   "metadata": {},
   "outputs": [
    {
     "name": "stdout",
     "output_type": "stream",
     "text": [
      "[[1 2 3]\n",
      " [4 5 6]]\n",
      "Shape  (2, 3)\n",
      "Dimensiosn  2\n",
      "Size  6\n",
      "Data types  int64\n"
     ]
    }
   ],
   "source": [
    "arr = np.array([[1,2,3],\n",
    "                [4,5,6]])\n",
    "print(arr)\n",
    "print(\"Shape \", arr.shape)\n",
    "print(\"Dimensiosn \", arr.ndim)\n",
    "print(\"Size \", arr.size)\n",
    "print(\"Data types \", arr.dtype)"
   ]
  },
  {
   "cell_type": "markdown",
   "id": "e382766e",
   "metadata": {},
   "source": [
    "### Array Reshaping"
   ]
  },
  {
   "cell_type": "code",
   "execution_count": null,
   "id": "b48a4638",
   "metadata": {},
   "outputs": [
    {
     "name": "stdout",
     "output_type": "stream",
     "text": [
      "Original array \n",
      " [ 0  1  2  3  4  5  6  7  8  9 10 11]\n",
      "Reshaped array \n",
      " [[ 0  1  2]\n",
      " [ 3  4  5]\n",
      " [ 6  7  8]\n",
      " [ 9 10 11]]\n",
      "Flattend array \n",
      " [ 0  1  2  3  4  5  6  7  8  9 10 11]\n",
      "Raveled array \n",
      " [ 0  1  2  3  4  5  6  7  8  9 10 11]\n",
      "Transposed array: \n",
      " [[ 0  3  6  9]\n",
      " [ 1  4  7 10]\n",
      " [ 2  5  8 11]]\n"
     ]
    }
   ],
   "source": [
    "arr = np.arange(12)\n",
    "print(\"Original array \\n\", arr)\n",
    "\n",
    "reshaped = arr.reshape((4,3))\n",
    "print(\"Reshaped array \\n\", reshaped)\n",
    "\n",
    "flattend = reshaped.flatten()\n",
    "print(\"Flattend array \\n\", flattend)\n",
    "\n",
    "'''returns view, instead of copy'''\n",
    "raveled = reshaped.ravel()\n",
    "print(\"Raveled array \\n\", raveled)\n",
    "\n",
    "'''transpose'''\n",
    "transpose = reshaped.T\n",
    "print(\"Transposed array: \\n\", transpose)\n"
   ]
  },
  {
   "cell_type": "code",
   "execution_count": null,
   "id": "75542290",
   "metadata": {},
   "outputs": [],
   "source": []
  }
 ],
 "metadata": {
  "kernelspec": {
   "display_name": ".venv",
   "language": "python",
   "name": "python3"
  },
  "language_info": {
   "codemirror_mode": {
    "name": "ipython",
    "version": 3
   },
   "file_extension": ".py",
   "mimetype": "text/x-python",
   "name": "python",
   "nbconvert_exporter": "python",
   "pygments_lexer": "ipython3",
   "version": "3.13.1"
  }
 },
 "nbformat": 4,
 "nbformat_minor": 5
}
