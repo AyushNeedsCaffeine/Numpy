{
 "cells": [
  {
   "cell_type": "markdown",
   "id": "e8f5f7ce",
   "metadata": {},
   "source": [
    "### Numpy Array Operations "
   ]
  },
  {
   "cell_type": "code",
   "execution_count": 1,
   "id": "7563faae",
   "metadata": {},
   "outputs": [],
   "source": [
    "import numpy as np"
   ]
  },
  {
   "cell_type": "code",
   "execution_count": 3,
   "id": "68443f7a",
   "metadata": {},
   "outputs": [
    {
     "name": "stdout",
     "output_type": "stream",
     "text": [
      "Basic slicing: \n",
      " [3 4 5 6 7]\n",
      "With steps: \n",
      " [2 4 6 8]\n",
      "Negative Indexing 8\n"
     ]
    }
   ],
   "source": [
    "arr = np.array([1,2,3,4,5,6,7,8,9,10])\n",
    "print(\"Basic slicing: \\n\", arr[2:7])\n",
    "print(\"With steps: \\n\", arr[1:8:2])\n",
    "print(\"Negative Indexing\", arr[-3])\n"
   ]
  },
  {
   "cell_type": "code",
   "execution_count": 6,
   "id": "625af296",
   "metadata": {},
   "outputs": [
    {
     "name": "stdout",
     "output_type": "stream",
     "text": [
      "Specific element: \n",
      " 6\n",
      "Entire row: \n",
      " [4 5 6]\n",
      "Entire coloumn:  \n",
      " [2 5]\n"
     ]
    }
   ],
   "source": [
    "arr_2d = np.array([[1,2,3],\n",
    "                  [4,5,6]])\n",
    "print(\"Specific element: \\n\", arr_2d[1,2])\n",
    "print(\"Entire row: \\n\", arr_2d[1])\n",
    "print(\"Entire coloumn:  \\n\", arr_2d[:,1])"
   ]
  },
  {
   "cell_type": "markdown",
   "id": "6e13595c",
   "metadata": {},
   "source": [
    "### Sorting"
   ]
  },
  {
   "cell_type": "code",
   "execution_count": 8,
   "id": "c4a0f24d",
   "metadata": {},
   "outputs": [
    {
     "name": "stdout",
     "output_type": "stream",
     "text": [
      "Sorted array \n",
      " [  3   6   8  41  49  52  66  72  86  94 100]\n",
      "Sorted 2D array by columm \n",
      " [[1 3]\n",
      " [3 5]\n",
      " [9 6]]\n",
      "Sorted 2D array by row \n",
      " [[3 6]\n",
      " [1 5]\n",
      " [3 9]]\n"
     ]
    }
   ],
   "source": [
    "unsorted = np.array([8,3,66,72,41,94,100,86,52,6,49])\n",
    "print(\"Sorted array \\n\", np.sort(unsorted))\n",
    "\n",
    "arr_2d_unsorted = np.array([[3,6], [1,5], [9,3]])\n",
    "print(\"Sorted 2D array by columm \\n\", np.sort(arr_2d_unsorted, axis=0))\n",
    "print(\"Sorted 2D array by row \\n\", np.sort(arr_2d_unsorted, axis=1))"
   ]
  },
  {
   "cell_type": "markdown",
   "id": "a2f0f6c8",
   "metadata": {},
   "source": [
    "### Filter"
   ]
  },
  {
   "cell_type": "code",
   "execution_count": 9,
   "id": "046e613a",
   "metadata": {},
   "outputs": [
    {
     "name": "stdout",
     "output_type": "stream",
     "text": [
      "Even number: \n",
      " [ 2  4  6  8 10]\n",
      "Odd numbers: \n",
      " [1 3 5 7 9]\n"
     ]
    }
   ],
   "source": [
    "numbers = np.array([1,2,3,4,5,6,7,8,9,10])\n",
    "even_num = numbers[numbers%2==0]\n",
    "print(\"Even number: \\n\",even_num)\n",
    "odd_num = numbers[numbers%2 != 0]\n",
    "print(\"Odd numbers: \\n\", odd_num)\n"
   ]
  },
  {
   "cell_type": "markdown",
   "id": "f7d13811",
   "metadata": {},
   "source": [
    "### Filter with mask \n"
   ]
  },
  {
   "cell_type": "code",
   "execution_count": 10,
   "id": "33845fde",
   "metadata": {},
   "outputs": [
    {
     "name": "stdout",
     "output_type": "stream",
     "text": [
      "Number greater than 3 \n",
      " [ 4  5  6  7  8  9 10]\n"
     ]
    }
   ],
   "source": [
    "mask = numbers > 3\n",
    "print(\"Number greater than 3 \\n\", numbers[mask])"
   ]
  },
  {
   "cell_type": "markdown",
   "id": "a02e7a4c",
   "metadata": {},
   "source": [
    "### Fancing indexing vs np.where()"
   ]
  },
  {
   "cell_type": "code",
   "execution_count": 11,
   "id": "10c8e09a",
   "metadata": {},
   "outputs": [
    {
     "name": "stdout",
     "output_type": "stream",
     "text": [
      "[1 3 5]\n",
      "(array([7, 8, 9]),)\n",
      "NP where [ 8  9 10]\n"
     ]
    }
   ],
   "source": [
    "indices = [0,2,4]\n",
    "print(numbers[indices])\n",
    "\n",
    "where_result = np.where(numbers > 7)\n",
    "print(where_result)\n",
    "print(\"NP where\", numbers[where_result])"
   ]
  },
  {
   "cell_type": "code",
   "execution_count": null,
   "id": "44e02b4d",
   "metadata": {},
   "outputs": [
    {
     "name": "stdout",
     "output_type": "stream",
     "text": [
      "[ 1  2  3  4  5 24 28 32 36 40]\n"
     ]
    },
    {
     "data": {
      "text/plain": [
       "'Similar to \\nif(numbers>5){\\nnumbers*4}\\nelse{numbers\\n}'"
      ]
     },
     "execution_count": 14,
     "metadata": {},
     "output_type": "execute_result"
    }
   ],
   "source": [
    "conditions_array = np.where(numbers>5, numbers*4, numbers)\n",
    "print(conditions_array)\n",
    "\n",
    "\"\"\"Similar to \n",
    "if(numbers>5){\n",
    "numbers*4}\n",
    "else{numbers\n",
    "}\"\"\" \n"
   ]
  },
  {
   "cell_type": "code",
   "execution_count": 15,
   "id": "a55da522",
   "metadata": {},
   "outputs": [
    {
     "name": "stdout",
     "output_type": "stream",
     "text": [
      "['false' 'false' 'false' 'false' 'false' 'true' 'true' 'true' 'true'\n",
      " 'true']\n"
     ]
    }
   ],
   "source": [
    "conditions_array2 = np.where(numbers>5,\"true\", \"false\")\n",
    "print(conditions_array2)"
   ]
  },
  {
   "cell_type": "markdown",
   "id": "f00ef4b7",
   "metadata": {},
   "source": [
    "### Adding or removing data"
   ]
  },
  {
   "cell_type": "code",
   "execution_count": 17,
   "id": "9a273462",
   "metadata": {},
   "outputs": [
    {
     "name": "stdout",
     "output_type": "stream",
     "text": [
      "[5 7 9]\n",
      "[1 2 3 4 5 6]\n"
     ]
    }
   ],
   "source": [
    "arr1 = np.array([1,2,3])\n",
    "arr2 = np.array([4,5,6])\n",
    "\n",
    "combined = arr1 + arr2 \n",
    "print(combined)\n",
    "concatenate = np.concatenate((arr1, arr2))\n",
    "print(concatenate)\n"
   ]
  },
  {
   "cell_type": "markdown",
   "id": "0ff697a2",
   "metadata": {},
   "source": [
    "### array compatibility"
   ]
  },
  {
   "cell_type": "code",
   "execution_count": 21,
   "id": "dd4cad27",
   "metadata": {},
   "outputs": [
    {
     "name": "stdout",
     "output_type": "stream",
     "text": [
      "Compatibility shapes True\n"
     ]
    }
   ],
   "source": [
    "a = np.array([1,2,3])\n",
    "b = np.array([4,5,6])\n",
    "c = np.array([7,8,9])\n",
    "\n",
    "print(\"Compatibility shapes\", a.shape == b.shape == c.shape)"
   ]
  },
  {
   "cell_type": "code",
   "execution_count": 26,
   "id": "2eaf4506",
   "metadata": {},
   "outputs": [
    {
     "name": "stdout",
     "output_type": "stream",
     "text": [
      "[[1 2]\n",
      " [3 4]]\n",
      "[[1 2]\n",
      " [3 4]\n",
      " [5 6]]\n",
      "[[1 2 7]\n",
      " [3 4 8]]\n"
     ]
    }
   ],
   "source": [
    "original = np.array([[1,2], [3,4]])\n",
    "new_row = np.array([5,6])\n",
    "with_new_row = np.vstack((original, new_row))\n",
    "print(original)\n",
    "print(with_new_row)\n",
    "new_col = np.array([[7],[8]])\n",
    "with_new_col = np.hstack((original, new_col))\n",
    "print(with_new_col)"
   ]
  },
  {
   "cell_type": "code",
   "execution_count": 28,
   "id": "d8c9e568",
   "metadata": {},
   "outputs": [
    {
     "name": "stdout",
     "output_type": "stream",
     "text": [
      "[1 2 4 5]\n"
     ]
    }
   ],
   "source": [
    "arr = np.array([1,2,3,4,5])\n",
    "deleted = np.delete(arr,2)\n",
    "print(deleted)\n"
   ]
  }
 ],
 "metadata": {
  "kernelspec": {
   "display_name": ".venv",
   "language": "python",
   "name": "python3"
  },
  "language_info": {
   "codemirror_mode": {
    "name": "ipython",
    "version": 3
   },
   "file_extension": ".py",
   "mimetype": "text/x-python",
   "name": "python",
   "nbconvert_exporter": "python",
   "pygments_lexer": "ipython3",
   "version": "3.13.1"
  }
 },
 "nbformat": 4,
 "nbformat_minor": 5
}
